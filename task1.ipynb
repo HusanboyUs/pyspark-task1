{
 "cells": [
  {
   "cell_type": "code",
   "execution_count": 1,
   "id": "157840df",
   "metadata": {},
   "outputs": [],
   "source": [
    "from pyspark.sql import SparkSession"
   ]
  },
  {
   "cell_type": "code",
   "execution_count": 36,
   "id": "cbade41d",
   "metadata": {},
   "outputs": [],
   "source": [
    "from pyspark.sql.types import StructField,StructType,StringType,IntegerType,FloatType,BooleanType,DateType,ArrayType,DoubleType"
   ]
  },
  {
   "cell_type": "code",
   "execution_count": 11,
   "id": "95d68daf",
   "metadata": {},
   "outputs": [],
   "source": [
    "spark=SparkSession.builder.appName('Task1').getOrCreate()"
   ]
  },
  {
   "cell_type": "code",
   "execution_count": 95,
   "id": "caa5a5ca",
   "metadata": {},
   "outputs": [],
   "source": [
    "from pyspark.sql.functions import regexp_replace, col"
   ]
  },
  {
   "cell_type": "code",
   "execution_count": 67,
   "id": "4250cb9b",
   "metadata": {},
   "outputs": [],
   "source": [
    "schema = StructType([\n",
    "    StructField(\"_id\", StringType(), nullable=False),\n",
    "    StructField(\"index\", IntegerType(), nullable=False),\n",
    "    StructField(\"guid\", StringType(), nullable=False),\n",
    "    StructField(\"isActive\", BooleanType(), nullable=False),\n",
    "    StructField(\"balance\", StringType(), nullable=False),\n",
    "    StructField(\"picture\", StringType(), nullable=False),\n",
    "    StructField(\"age\", IntegerType(), nullable=False),\n",
    "    StructField(\"eyeColor\", StringType(), nullable=False),\n",
    "    StructField(\"name\", StringType(), nullable=False),\n",
    "    StructField(\"gender\", StringType(), nullable=False),\n",
    "    StructField(\"company\", StringType(), nullable=False),\n",
    "    StructField(\"email\", StringType(), nullable=False),\n",
    "    StructField(\"phone\", StringType(), nullable=False),\n",
    "    StructField(\"address\", StringType(), nullable=False),\n",
    "    StructField(\"about\", StringType(), nullable=False),\n",
    "    StructField(\"registered\", StringType(), nullable=False),\n",
    "    StructField(\"latitude\", FloatType(), nullable=False),\n",
    "    StructField(\"longitude\", FloatType(), nullable=False),\n",
    "    StructField(\"tags\", ArrayType(StringType()), nullable=False),\n",
    "    StructField(\"friends\", ArrayType(StructType([\n",
    "        StructField(\"_id\", IntegerType(), nullable=False),\n",
    "        StructField(\"name\", StringType(), nullable=False)\n",
    "    ])), nullable=False),\n",
    "    StructField(\"greeting\", StringType(), nullable=False),\n",
    "    StructField(\"favoriteFruit\", StringType(), nullable=False)\n",
    "])"
   ]
  },
  {
   "cell_type": "code",
   "execution_count": 143,
   "id": "21b557d9",
   "metadata": {
    "scrolled": true
   },
   "outputs": [
    {
     "name": "stdout",
     "output_type": "stream",
     "text": [
      "StructType([StructField('_id', StringType(), True), StructField('index', IntegerType(), True), StructField('guid', StringType(), True), StructField('isActive', BooleanType(), True), StructField('balance', StringType(), True), StructField('picture', StringType(), True), StructField('age', IntegerType(), True), StructField('eyeColor', StringType(), True), StructField('name', StringType(), True), StructField('gender', StringType(), True), StructField('company', StringType(), True), StructField('email', StringType(), True), StructField('phone', StringType(), True), StructField('address', StringType(), True), StructField('about', StringType(), True), StructField('registered', StringType(), True), StructField('latitude', FloatType(), True), StructField('longitude', FloatType(), True), StructField('tags', ArrayType(StringType(), True), True), StructField('friends', ArrayType(StructType([StructField('_id', IntegerType(), True), StructField('name', StringType(), True)]), True), True), StructField('greeting', StringType(), True), StructField('favoriteFruit', StringType(), True)])\n"
     ]
    }
   ],
   "source": [
    "data = spark.read.json('data_task1.json', schema,multiLine=True)\n",
    "print(data.schema)"
   ]
  },
  {
   "cell_type": "code",
   "execution_count": 135,
   "id": "438d7d30",
   "metadata": {},
   "outputs": [],
   "source": [
    "#Parse the balance field and create a new column that holds the numeric value of the field\n",
    "balance_data=data.withColumn('intBalance',regexp_replace(col('balance'),\"[$,]\", \"\"))"
   ]
  },
  {
   "cell_type": "code",
   "execution_count": 136,
   "id": "32c511b8",
   "metadata": {},
   "outputs": [],
   "source": [
    "balance_data=balance_data.withColumn('intBalance',balance_data['intBalance'].cast('integer'))"
   ]
  },
  {
   "cell_type": "code",
   "execution_count": 137,
   "id": "1db24ea8",
   "metadata": {},
   "outputs": [
    {
     "name": "stdout",
     "output_type": "stream",
     "text": [
      "IntegerType()\n"
     ]
    }
   ],
   "source": [
    "print(balance_data.schema['intBalance'].dataType)"
   ]
  },
  {
   "cell_type": "code",
   "execution_count": 130,
   "id": "c3f8c9b5",
   "metadata": {},
   "outputs": [
    {
     "name": "stdout",
     "output_type": "stream",
     "text": [
      "+----------+---------+\n",
      "|intBalance|  balance|\n",
      "+----------+---------+\n",
      "|      1232|$1,232.31|\n",
      "|      2920|$2,920.66|\n",
      "|      1819|$1,819.72|\n",
      "|      1571|$1,571.09|\n",
      "|      1178|$1,178.43|\n",
      "|      1952|$1,952.92|\n",
      "|      3020|$3,020.16|\n",
      "|      2574|$2,574.66|\n",
      "|      3864|$3,864.22|\n",
      "|      3008|$3,008.74|\n",
      "+----------+---------+\n",
      "only showing top 10 rows\n",
      "\n"
     ]
    }
   ],
   "source": [
    "balance_data.select('intBalance','balance').show(10)"
   ]
  },
  {
   "cell_type": "code",
   "execution_count": 134,
   "id": "adcd995f",
   "metadata": {},
   "outputs": [
    {
     "name": "stdout",
     "output_type": "stream",
     "text": [
      "+------+---------------+\n",
      "|gender|sum(intBalance)|\n",
      "+------+---------------+\n",
      "|female|         113957|\n",
      "|  male|         124773|\n",
      "+------+---------------+\n",
      "\n"
     ]
    }
   ],
   "source": [
    "#Create a new dataframe that holds the sum of balance field by gender\n",
    "balanceByGender=balance_data.select('gender','intBalance')\n",
    "sumByGender=balanceByGender.groupBy('gender').sum('intBalance').show()"
   ]
  },
  {
   "cell_type": "code",
   "execution_count": null,
   "id": "21dc7b8d",
   "metadata": {},
   "outputs": [],
   "source": []
  }
 ],
 "metadata": {
  "kernelspec": {
   "display_name": "Python 3 (ipykernel)",
   "language": "python",
   "name": "python3"
  },
  "language_info": {
   "codemirror_mode": {
    "name": "ipython",
    "version": 3
   },
   "file_extension": ".py",
   "mimetype": "text/x-python",
   "name": "python",
   "nbconvert_exporter": "python",
   "pygments_lexer": "ipython3",
   "version": "3.11.1"
  }
 },
 "nbformat": 4,
 "nbformat_minor": 5
}
