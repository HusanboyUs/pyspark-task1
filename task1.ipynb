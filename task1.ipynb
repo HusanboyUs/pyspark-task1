{
 "cells": [
  {
   "cell_type": "code",
   "execution_count": 1,
   "id": "157840df",
   "metadata": {},
   "outputs": [],
   "source": [
    "from pyspark.sql import SparkSession"
   ]
  },
  {
   "cell_type": "code",
   "execution_count": 2,
   "id": "cbade41d",
   "metadata": {},
   "outputs": [],
   "source": [
    "from pyspark.sql.types import StructField,StructType,StringType,IntegerType,FloatType,BooleanType,DateType,ArrayType,DoubleType"
   ]
  },
  {
   "cell_type": "code",
   "execution_count": 3,
   "id": "bbe23d57",
   "metadata": {},
   "outputs": [],
   "source": [
    "from pyspark.sql.functions import regexp_replace, col"
   ]
  },
  {
   "cell_type": "markdown",
   "id": "096b3d74",
   "metadata": {},
   "source": [
    "# Creating SparkSession"
   ]
  },
  {
   "cell_type": "code",
   "execution_count": 4,
   "id": "95d68daf",
   "metadata": {},
   "outputs": [
    {
     "name": "stderr",
     "output_type": "stream",
     "text": [
      "23/06/19 01:24:43 WARN Utils: Your hostname, MacBook-Pro.local resolves to a loopback address: 127.0.0.1; using 192.168.0.15 instead (on interface en0)\n",
      "23/06/19 01:24:43 WARN Utils: Set SPARK_LOCAL_IP if you need to bind to another address\n",
      "Setting default log level to \"WARN\".\n",
      "To adjust logging level use sc.setLogLevel(newLevel). For SparkR, use setLogLevel(newLevel).\n",
      "23/06/19 01:24:43 WARN NativeCodeLoader: Unable to load native-hadoop library for your platform... using builtin-java classes where applicable\n"
     ]
    }
   ],
   "source": [
    "spark=SparkSession.builder.appName('Task1').getOrCreate()"
   ]
  },
  {
   "cell_type": "code",
   "execution_count": 5,
   "id": "4250cb9b",
   "metadata": {},
   "outputs": [],
   "source": [
    "schema = StructType([\n",
    "    StructField(\"_id\", StringType(), nullable=False),\n",
    "    StructField(\"index\", IntegerType(), nullable=False),\n",
    "    StructField(\"guid\", StringType(), nullable=False),\n",
    "    StructField(\"isActive\", BooleanType(), nullable=False),\n",
    "    StructField(\"balance\", StringType(), nullable=False),\n",
    "    StructField(\"picture\", StringType(), nullable=False),\n",
    "    StructField(\"age\", IntegerType(), nullable=False),\n",
    "    StructField(\"eyeColor\", StringType(), nullable=False),\n",
    "    StructField(\"name\", StringType(), nullable=False),\n",
    "    StructField(\"gender\", StringType(), nullable=False),\n",
    "    StructField(\"company\", StringType(), nullable=False),\n",
    "    StructField(\"email\", StringType(), nullable=False),\n",
    "    StructField(\"phone\", StringType(), nullable=False),\n",
    "    StructField(\"address\", StringType(), nullable=False),\n",
    "    StructField(\"about\", StringType(), nullable=False),\n",
    "    StructField(\"registered\", StringType(), nullable=False),\n",
    "    StructField(\"latitude\", FloatType(), nullable=False),\n",
    "    StructField(\"longitude\", FloatType(), nullable=False),\n",
    "    StructField(\"tags\", ArrayType(StringType()), nullable=False),\n",
    "    StructField(\"friends\", ArrayType(StructType([\n",
    "        StructField(\"_id\", IntegerType(), nullable=False),\n",
    "        StructField(\"name\", StringType(), nullable=False)\n",
    "    ])), nullable=False),\n",
    "    StructField(\"greeting\", StringType(), nullable=False),\n",
    "    StructField(\"favoriteFruit\", StringType(), nullable=False)\n",
    "])"
   ]
  },
  {
   "cell_type": "code",
   "execution_count": 6,
   "id": "21b557d9",
   "metadata": {
    "scrolled": true
   },
   "outputs": [
    {
     "name": "stdout",
     "output_type": "stream",
     "text": [
      "root\n",
      " |-- _id: string (nullable = true)\n",
      " |-- index: integer (nullable = true)\n",
      " |-- guid: string (nullable = true)\n",
      " |-- isActive: boolean (nullable = true)\n",
      " |-- balance: string (nullable = true)\n",
      " |-- picture: string (nullable = true)\n",
      " |-- age: integer (nullable = true)\n",
      " |-- eyeColor: string (nullable = true)\n",
      " |-- name: string (nullable = true)\n",
      " |-- gender: string (nullable = true)\n",
      " |-- company: string (nullable = true)\n",
      " |-- email: string (nullable = true)\n",
      " |-- phone: string (nullable = true)\n",
      " |-- address: string (nullable = true)\n",
      " |-- about: string (nullable = true)\n",
      " |-- registered: string (nullable = true)\n",
      " |-- latitude: float (nullable = true)\n",
      " |-- longitude: float (nullable = true)\n",
      " |-- tags: array (nullable = true)\n",
      " |    |-- element: string (containsNull = true)\n",
      " |-- friends: array (nullable = true)\n",
      " |    |-- element: struct (containsNull = true)\n",
      " |    |    |-- _id: integer (nullable = true)\n",
      " |    |    |-- name: string (nullable = true)\n",
      " |-- greeting: string (nullable = true)\n",
      " |-- favoriteFruit: string (nullable = true)\n",
      "\n"
     ]
    }
   ],
   "source": [
    "data = spark.read.json('data_task1.json', schema,multiLine=True)\n",
    "data.printSchema()"
   ]
  },
  {
   "cell_type": "markdown",
   "id": "b5a026fd",
   "metadata": {},
   "source": [
    "# Task 1"
   ]
  },
  {
   "cell_type": "code",
   "execution_count": 7,
   "id": "438d7d30",
   "metadata": {},
   "outputs": [],
   "source": [
    "#Parse the balance field and create a new column that holds the numeric value of the field\n",
    "balance_data=data.withColumn('intBalance',regexp_replace(col('balance'),\"[$,]\", \"\"))"
   ]
  },
  {
   "cell_type": "code",
   "execution_count": 14,
   "id": "32c511b8",
   "metadata": {},
   "outputs": [],
   "source": [
    "balance_data=balance_data.withColumn('intBalance',balance_data['intBalance'].cast('double'))"
   ]
  },
  {
   "cell_type": "code",
   "execution_count": 15,
   "id": "1db24ea8",
   "metadata": {},
   "outputs": [
    {
     "name": "stdout",
     "output_type": "stream",
     "text": [
      "DoubleType()\n"
     ]
    }
   ],
   "source": [
    "print(balance_data.schema['intBalance'].dataType)"
   ]
  },
  {
   "cell_type": "code",
   "execution_count": 16,
   "id": "c3f8c9b5",
   "metadata": {},
   "outputs": [
    {
     "name": "stdout",
     "output_type": "stream",
     "text": [
      "+----------+---------+\n",
      "|intBalance|  balance|\n",
      "+----------+---------+\n",
      "|    1232.0|$1,232.31|\n",
      "|    2920.0|$2,920.66|\n",
      "|    1819.0|$1,819.72|\n",
      "|    1571.0|$1,571.09|\n",
      "|    1178.0|$1,178.43|\n",
      "|    1952.0|$1,952.92|\n",
      "|    3020.0|$3,020.16|\n",
      "|    2574.0|$2,574.66|\n",
      "|    3864.0|$3,864.22|\n",
      "|    3008.0|$3,008.74|\n",
      "+----------+---------+\n",
      "only showing top 10 rows\n",
      "\n"
     ]
    }
   ],
   "source": [
    "balance_data.select('intBalance','balance').show(10)"
   ]
  },
  {
   "cell_type": "code",
   "execution_count": 17,
   "id": "a3ec9d8e",
   "metadata": {},
   "outputs": [
    {
     "data": {
      "text/plain": [
       "(1, False)"
      ]
     },
     "execution_count": 17,
     "metadata": {},
     "output_type": "execute_result"
    }
   ],
   "source": [
    "1,232.31 == 1232.0"
   ]
  },
  {
   "cell_type": "markdown",
   "id": "dc151fec",
   "metadata": {},
   "source": [
    "# Task 2"
   ]
  },
  {
   "cell_type": "code",
   "execution_count": 134,
   "id": "adcd995f",
   "metadata": {},
   "outputs": [
    {
     "name": "stdout",
     "output_type": "stream",
     "text": [
      "+------+---------------+\n",
      "|gender|sum(intBalance)|\n",
      "+------+---------------+\n",
      "|female|         113957|\n",
      "|  male|         124773|\n",
      "+------+---------------+\n",
      "\n"
     ]
    }
   ],
   "source": [
    "#Create a new dataframe that holds the sum of balance field by gender\n",
    "balanceByGender=balance_data.select('gender','intBalance')\n",
    "sumByGender=balanceByGender.groupBy('gender').sum('intBalance').show()"
   ]
  }
 ],
 "metadata": {
  "kernelspec": {
   "display_name": "Python 3 (ipykernel)",
   "language": "python",
   "name": "python3"
  },
  "language_info": {
   "codemirror_mode": {
    "name": "ipython",
    "version": 3
   },
   "file_extension": ".py",
   "mimetype": "text/x-python",
   "name": "python",
   "nbconvert_exporter": "python",
   "pygments_lexer": "ipython3",
   "version": "3.11.1"
  }
 },
 "nbformat": 4,
 "nbformat_minor": 5
}
