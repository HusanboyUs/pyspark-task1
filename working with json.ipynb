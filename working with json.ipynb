{
 "cells": [
  {
   "cell_type": "code",
   "execution_count": 3,
   "id": "24f79af2",
   "metadata": {},
   "outputs": [],
   "source": [
    "from pyspark.sql import SparkSession"
   ]
  },
  {
   "cell_type": "code",
   "execution_count": 4,
   "id": "17eb7c96",
   "metadata": {},
   "outputs": [],
   "source": [
    "from pyspark.sql.types import StructField,StructType,IntegerType,StringType,BooleanType,FloatType,DateType,ArrayType"
   ]
  },
  {
   "cell_type": "code",
   "execution_count": 5,
   "id": "9b5ba708",
   "metadata": {},
   "outputs": [
    {
     "name": "stderr",
     "output_type": "stream",
     "text": [
      "23/06/07 23:52:31 WARN Utils: Your hostname, MacBook-Pro.local resolves to a loopback address: 127.0.0.1; using 192.168.0.15 instead (on interface en0)\n",
      "23/06/07 23:52:31 WARN Utils: Set SPARK_LOCAL_IP if you need to bind to another address\n",
      "Setting default log level to \"WARN\".\n",
      "To adjust logging level use sc.setLogLevel(newLevel). For SparkR, use setLogLevel(newLevel).\n",
      "23/06/07 23:52:31 WARN NativeCodeLoader: Unable to load native-hadoop library for your platform... using builtin-java classes where applicable\n"
     ]
    }
   ],
   "source": [
    "spark=SparkSession.builder.appName('JsonReader').getOrCreate()"
   ]
  },
  {
   "cell_type": "code",
   "execution_count": 10,
   "id": "519e7916",
   "metadata": {},
   "outputs": [],
   "source": [
    "my_schema=StructType([\n",
    "    StructField('id',IntegerType(),True),\n",
    "    StructField('first_name',StringType(),True),\n",
    "    StructField('last_name',StringType(),True),\n",
    "    StructField('fav_movies',ArrayType(StringType()),True),\n",
    "    StructField('salary',FloatType(),True),\n",
    "    StructField('image_url',StringType(),True),\n",
    "    StructField('date_of_birth',DateType(),True),\n",
    "    StructField('active',BooleanType(),True),\n",
    "    \n",
    "])"
   ]
  },
  {
   "cell_type": "code",
   "execution_count": 11,
   "id": "1235a679",
   "metadata": {},
   "outputs": [],
   "source": [
    "my_data=spark.read.json('persons.json',my_schema,multiLine=True)"
   ]
  },
  {
   "cell_type": "code",
   "execution_count": 12,
   "id": "a753427d",
   "metadata": {},
   "outputs": [
    {
     "name": "stdout",
     "output_type": "stream",
     "text": [
      "+---+----------+---------+--------------------+-------+--------------------+-------------+------+\n",
      "| id|first_name|last_name|          fav_movies| salary|           image_url|date_of_birth|active|\n",
      "+---+----------+---------+--------------------+-------+--------------------+-------------+------+\n",
      "|  1|     Drucy|    Poppy|  [I giorni contati]|1463.36|http://dummyimage...|   1991-02-16|  true|\n",
      "|  2|   Emelyne|    Blaza|[Musketeer, The, ...|3006.04|http://dummyimage...|   1991-11-02| false|\n",
      "|  3|       Max|   Rettie|[The Forgotten Sp...|1422.88|http://dummyimage...|   1990-03-03| false|\n",
      "|  4|    Ilario|     Kean|[Up Close and Per...|3561.36|http://dummyimage...|   1987-06-09|  true|\n",
      "|  5|     Toddy|   Drexel|[Walk in the Clou...|4934.87|http://dummyimage...|   1992-10-28|  true|\n",
      "|  6|    Oswald| Petrolli|[Wing and the Thi...|1153.23|http://dummyimage...|   1986-09-02| false|\n",
      "|  7|    Adrian|   Clarey|[Walking Tall, Pa...|1044.73|http://dummyimage...|   1971-08-24| false|\n",
      "|  8|  Dominica|  Goodnow|    [Hearts Divided]|1147.76|http://dummyimage...|   1973-08-27| false|\n",
      "|  9|     Emory|  Slocomb|[Snake and Crane ...|1082.11|http://dummyimage...|   1974-06-08|  true|\n",
      "| 10|  Jeremias|     Bode|[Farewell to Arms...|3472.63|http://dummyimage...|   1997-08-02|  true|\n",
      "+---+----------+---------+--------------------+-------+--------------------+-------------+------+\n",
      "only showing top 10 rows\n",
      "\n"
     ]
    }
   ],
   "source": [
    "my_data.show(10)"
   ]
  },
  {
   "cell_type": "code",
   "execution_count": 13,
   "id": "7706e55f",
   "metadata": {},
   "outputs": [
    {
     "name": "stdout",
     "output_type": "stream",
     "text": [
      "+----------+-------+\n",
      "|first_name| salary|\n",
      "+----------+-------+\n",
      "|     Drucy|1463.36|\n",
      "|   Emelyne|3006.04|\n",
      "|       Max|1422.88|\n",
      "|    Ilario|3561.36|\n",
      "|     Toddy|4934.87|\n",
      "|    Oswald|1153.23|\n",
      "|    Adrian|1044.73|\n",
      "|  Dominica|1147.76|\n",
      "|     Emory|1082.11|\n",
      "|  Jeremias|3472.63|\n",
      "+----------+-------+\n",
      "only showing top 10 rows\n",
      "\n"
     ]
    }
   ],
   "source": [
    "my_data.select('first_name','salary').show(10)"
   ]
  },
  {
   "cell_type": "code",
   "execution_count": 14,
   "id": "8de8ebea",
   "metadata": {},
   "outputs": [
    {
     "name": "stdout",
     "output_type": "stream",
     "text": [
      "+---+----------+---------+--------------------+-------+--------------------+-------------+------+\n",
      "| id|first_name|last_name|          fav_movies| salary|           image_url|date_of_birth|active|\n",
      "+---+----------+---------+--------------------+-------+--------------------+-------------+------+\n",
      "|  1|     Drucy|    Poppy|  [I giorni contati]|1463.36|http://dummyimage...|   1991-02-16|  true|\n",
      "|  2|   Emelyne|    Blaza|[Musketeer, The, ...|3006.04|http://dummyimage...|   1991-11-02| false|\n",
      "|  3|       Max|   Rettie|[The Forgotten Sp...|1422.88|http://dummyimage...|   1990-03-03| false|\n",
      "|  4|    Ilario|     Kean|[Up Close and Per...|3561.36|http://dummyimage...|   1987-06-09|  true|\n",
      "|  5|     Toddy|   Drexel|[Walk in the Clou...|4934.87|http://dummyimage...|   1992-10-28|  true|\n",
      "|  6|    Oswald| Petrolli|[Wing and the Thi...|1153.23|http://dummyimage...|   1986-09-02| false|\n",
      "|  7|    Adrian|   Clarey|[Walking Tall, Pa...|1044.73|http://dummyimage...|   1971-08-24| false|\n",
      "|  8|  Dominica|  Goodnow|    [Hearts Divided]|1147.76|http://dummyimage...|   1973-08-27| false|\n",
      "|  9|     Emory|  Slocomb|[Snake and Crane ...|1082.11|http://dummyimage...|   1974-06-08|  true|\n",
      "| 10|  Jeremias|     Bode|[Farewell to Arms...|3472.63|http://dummyimage...|   1997-08-02|  true|\n",
      "+---+----------+---------+--------------------+-------+--------------------+-------------+------+\n",
      "only showing top 10 rows\n",
      "\n"
     ]
    }
   ],
   "source": [
    "my_data.show(10,True)"
   ]
  },
  {
   "cell_type": "code",
   "execution_count": 15,
   "id": "eeaade08",
   "metadata": {},
   "outputs": [],
   "source": [
    "from pyspark.sql.functions import col,expr,concat_ws"
   ]
  },
  {
   "cell_type": "code",
   "execution_count": 19,
   "id": "f09e6e1a",
   "metadata": {},
   "outputs": [
    {
     "name": "stdout",
     "output_type": "stream",
     "text": [
      "+---+----------+-----------+--------------------+-------+--------------------+-------------+------+\n",
      "| id|first_name|  last_name|          fav_movies| salary|           image_url|date_of_birth|active|\n",
      "+---+----------+-----------+--------------------+-------+--------------------+-------------+------+\n",
      "|  1|     Drucy|      Poppy|  [I giorni contati]|1463.36|http://dummyimage...|   1991-02-16|  true|\n",
      "|  4|    Ilario|       Kean|[Up Close and Per...|3561.36|http://dummyimage...|   1987-06-09|  true|\n",
      "|  5|     Toddy|     Drexel|[Walk in the Clou...|4934.87|http://dummyimage...|   1992-10-28|  true|\n",
      "|  9|     Emory|    Slocomb|[Snake and Crane ...|1082.11|http://dummyimage...|   1974-06-08|  true|\n",
      "| 10|  Jeremias|       Bode|[Farewell to Arms...|3472.63|http://dummyimage...|   1997-08-02|  true|\n",
      "| 14|   Ambrosi|   Vidineev|[Wall Street: Mon...|4550.88|http://dummyimage...|   1989-07-20|  true|\n",
      "| 16|   Margaux|   Archbold|[And Now a Word f...|1013.75|http://dummyimage...|   1988-07-29|  true|\n",
      "| 18|     Alfie|   Hatliffe|     [Lord of Tears]| 3893.1|http://dummyimage...|   1989-06-21|  true|\n",
      "| 21|      Dian|      Dancy|[Double, Double, ...| 3720.3|http://dummyimage...|   1998-12-01|  true|\n",
      "| 25|     Kelcy|     Wogdon|    [Iron Mask, The]|4512.51|http://dummyimage...|   2000-10-20|  true|\n",
      "| 26|     Clive|        Lax|             [Rabid]|2126.87|http://dummyimage...|   1981-10-26|  true|\n",
      "| 27|    Kelila|Harrowsmith|   [Apparition, The]|4651.58|http://dummyimage...|   1973-01-02|  true|\n",
      "| 29|       Eli|  Normabell|[Return to Peyton...|4917.48|http://dummyimage...|   1993-01-02|  true|\n",
      "| 33|  Sherline|    Primett|   [Jungle Fighters]|2309.39|http://dummyimage...|   1972-07-23|  true|\n",
      "| 34|     Davis|      Pinks|          [Hounddog]|1337.14|http://dummyimage...|   1989-07-27|  true|\n",
      "| 35|     Fanni|      Dyson|     [Wild One, The]|3228.58|http://dummyimage...|   1995-01-09|  true|\n",
      "| 37|    Carlen|    Sharply|[Dr. Jekyll and M...|2051.85|http://dummyimage...|   2002-06-01|  true|\n",
      "| 39|   Melinda|   McKevitt|[Safrana or Freed...|4166.13|http://dummyimage...|   1979-12-15|  true|\n",
      "| 40|    Jordan|     Lorant|[Shockproof, Bach...|2183.91|http://dummyimage...|   1979-07-29|  true|\n",
      "| 42| Cristiano|       Shaw|[Can-Can, Feeding...|3180.08|http://dummyimage...|   1997-04-07|  true|\n",
      "| 43|   Guthrie|     Veeler|[Mr. Brooks, Seco...|4806.88|http://dummyimage...|   1978-07-31|  true|\n",
      "| 44|  Wolfgang|      Inger|     [No Such Thing]|3192.85|http://dummyimage...|   1973-11-16|  true|\n",
      "| 47|     Ardis|     Wotton|[Little Colonel, ...|3827.61|http://dummyimage...|   1979-06-13|  true|\n",
      "| 49| Kendricks|        Kee|   [Flower & Garnet]|2304.39|http://dummyimage...|   1999-11-14|  true|\n",
      "| 51|        El|   Dohrmann|[El Hada Buena - ...|4810.48|http://dummyimage...|   1984-04-24|  true|\n",
      "| 57|   Krystle|    Shovell|[Doomsday, Flight...|2260.76|http://dummyimage...|   1987-09-01|  true|\n",
      "| 58|     Nahum|  Wildgoose|[Thomas in Love (...| 4009.3|http://dummyimage...|   1986-12-17|  true|\n",
      "| 60|       Bev|     Symcox|[Alvin and the Ch...|2586.38|http://dummyimage...|   1976-11-09|  true|\n",
      "| 63|     Toddy| Matevosian| [Snake Eyes, Jauja]|4394.08|http://dummyimage...|   1972-03-17|  true|\n",
      "| 64|   Loralyn|      Nimmo|[Queen to Play (J...|3005.12|http://dummyimage...|   1980-01-03|  true|\n",
      "| 65|   Hillyer|   MacArdle|[Slim Susie (Smal...|3826.59|http://dummyimage...|   1985-07-19|  true|\n",
      "| 66|      Rudy|    Ritelli|[Pope's Toilet, T...|4268.39|http://dummyimage...|   1998-09-01|  true|\n",
      "| 67|   Feodora| Giacomazzo|[Death Watch (La ...| 2122.2|http://dummyimage...|   1971-12-19|  true|\n",
      "| 68|      Ilsa|     Hedman|[Night of the Dem...|3219.26|http://dummyimage...|   1986-01-29|  true|\n",
      "| 69|  Annabell|    Doughty|[Entertaining Ang...|2022.57|http://dummyimage...|   2000-09-03|  true|\n",
      "| 71|    Cecily|    Salomon|[Mrs. Henderson P...|4062.93|http://dummyimage...|   1999-07-18|  true|\n",
      "| 75|    Norean|       Baum|[Fright Night, Bl...|2924.43|http://dummyimage...|   1974-03-27|  true|\n",
      "| 76|     Trace|      Balke|[Dark Truth, A (T...|4812.73|http://dummyimage...|   1982-01-03|  true|\n",
      "| 78|     Nyssa|   Rajchert|[Little Accidents...|2697.06|http://dummyimage...|   1987-08-28|  true|\n",
      "| 79|     Deina|    Pennick|[Invisible Invade...|1048.92|http://dummyimage...|   1999-11-28|  true|\n",
      "| 82|    Lucita| Sowerbutts|[Redemption: For ...|3052.35|http://dummyimage...|   1972-09-18|  true|\n",
      "| 86|    Welbie|    Crackel|[All That Heaven ...|2720.28|http://dummyimage...|   1990-10-24|  true|\n",
      "| 89|      Tish|     Machon|  [Arrowhead, Simon]|4830.06|http://dummyimage...|   1995-06-08|  true|\n",
      "| 92|     Daron|    Briance|[Train on the Bra...|4226.35|http://dummyimage...|   2002-02-22|  true|\n",
      "| 93|    Janean|       Pelz|              [Once]|4906.92|http://dummyimage...|   1975-09-23|  true|\n",
      "| 98|     Davin|       Labb|[Viva Riva!, Kill...|1452.74|http://dummyimage...|   1988-01-27|  true|\n",
      "|100|    Virgie|   Domanski|[Horseman, The, S...|2165.93|http://dummyimage...|   2002-01-05|  true|\n",
      "+---+----------+-----------+--------------------+-------+--------------------+-------------+------+\n",
      "\n"
     ]
    }
   ],
   "source": [
    "my_data.filter('active == true').show(100)"
   ]
  },
  {
   "cell_type": "code",
   "execution_count": 27,
   "id": "e8da8518",
   "metadata": {},
   "outputs": [
    {
     "name": "stdout",
     "output_type": "stream",
     "text": [
      "+---+----------+---------+--------------------+-------+--------------------+-------------+------+\n",
      "| id|first_name|last_name|          fav_movies| salary|           image_url|date_of_birth|active|\n",
      "+---+----------+---------+--------------------+-------+--------------------+-------------+------+\n",
      "|  2|   Emelyne|    Blaza|[Musketeer, The, ...|3006.04|http://dummyimage...|   1991-11-02| false|\n",
      "|  3|       Max|   Rettie|[The Forgotten Sp...|1422.88|http://dummyimage...|   1990-03-03| false|\n",
      "+---+----------+---------+--------------------+-------+--------------------+-------------+------+\n",
      "only showing top 2 rows\n",
      "\n"
     ]
    }
   ],
   "source": [
    "my_data.where('active == false').show(2)"
   ]
  },
  {
   "cell_type": "markdown",
   "id": "6bc75cae",
   "metadata": {},
   "source": [
    "# Rows and Unions"
   ]
  },
  {
   "cell_type": "code",
   "execution_count": 26,
   "id": "976bfdf1",
   "metadata": {},
   "outputs": [],
   "source": [
    "from pyspark.sql import Row"
   ]
  },
  {
   "cell_type": "code",
   "execution_count": 40,
   "id": "1482b725",
   "metadata": {},
   "outputs": [],
   "source": [
    "new_person=Row('101','Husanboy','Usmonov',[\"Stranger Things\",\"Morbius\",\"Silicon Valley\"],'4500.59','https://someimage.com','2002-08-06',True)"
   ]
  },
  {
   "cell_type": "code",
   "execution_count": 41,
   "id": "85d1df77",
   "metadata": {},
   "outputs": [],
   "source": [
    "new_persons_list=[\n",
    "    Row('102','John','Usmonov',[\"Stranger Things\",\"Silicon Valley\"],'4500.59','https://someimage.com','2002-08-06',True),\n",
    "    Row('103','Dawid','Klimza',[\"Stranger Things Season 3\",\"Silicon Valley\"],'4500.59','https://someimage.com','2002-08-06',True)\n",
    "    \n",
    "]"
   ]
  },
  {
   "cell_type": "code",
   "execution_count": 42,
   "id": "6bac956a",
   "metadata": {},
   "outputs": [
    {
     "data": {
      "text/plain": [
       "<Row('103', 'Dawid', 'Klimza', ['Stranger Things Season 3', 'Silicon Valley'], '4500.59', 'https://someimage.com', '2002-08-06', True)>"
      ]
     },
     "execution_count": 42,
     "metadata": {},
     "output_type": "execute_result"
    }
   ],
   "source": [
    "new_persons_list[1]"
   ]
  },
  {
   "cell_type": "code",
   "execution_count": 43,
   "id": "2d449281",
   "metadata": {},
   "outputs": [],
   "source": [
    "myNewPeople=spark.createDataFrame(new_persons_list,['id','first_name','last_name','fav_movies','salary','image_url','date_of_birth','True'])"
   ]
  },
  {
   "cell_type": "code",
   "execution_count": 57,
   "id": "f7765313",
   "metadata": {},
   "outputs": [
    {
     "name": "stdout",
     "output_type": "stream",
     "text": [
      "+---+----------+---------+--------------------+-------+--------------------+-------------+----+\n",
      "| id|first_name|last_name|          fav_movies| salary|           image_url|date_of_birth|True|\n",
      "+---+----------+---------+--------------------+-------+--------------------+-------------+----+\n",
      "|102|      John|  Usmonov|[Stranger Things,...|4500.59|https://someimage...|   2002-08-06|true|\n",
      "|103|     Dawid|   Klimza|[Stranger Things ...|4500.59|https://someimage...|   2002-08-06|true|\n",
      "+---+----------+---------+--------------------+-------+--------------------+-------------+----+\n",
      "\n"
     ]
    }
   ],
   "source": [
    "myNewPeople.show()"
   ]
  },
  {
   "cell_type": "code",
   "execution_count": 61,
   "id": "8eb5466d",
   "metadata": {},
   "outputs": [
    {
     "data": {
      "text/plain": [
       "DataFrame[id: string, first_name: string, last_name: string, fav_movies: array<string>, salary: string, image_url: string, date_of_birth: string, active: boolean]"
      ]
     },
     "execution_count": 61,
     "metadata": {},
     "output_type": "execute_result"
    }
   ],
   "source": [
    "my_data.union(myNewPeople)"
   ]
  },
  {
   "cell_type": "code",
   "execution_count": 62,
   "id": "b36eab38",
   "metadata": {},
   "outputs": [],
   "source": [
    "from pyspark.sql.functions import desc"
   ]
  },
  {
   "cell_type": "code",
   "execution_count": 63,
   "id": "f41aef03",
   "metadata": {},
   "outputs": [
    {
     "name": "stdout",
     "output_type": "stream",
     "text": [
      "+---+----------+---------+----------+------+---------+-------------+------+\n",
      "| id|first_name|last_name|fav_movies|salary|image_url|date_of_birth|active|\n",
      "+---+----------+---------+----------+------+---------+-------------+------+\n",
      "+---+----------+---------+----------+------+---------+-------------+------+\n",
      "\n"
     ]
    }
   ],
   "source": [
    "my_data.where('id == 101').show()"
   ]
  },
  {
   "cell_type": "markdown",
   "id": "ccb8d613",
   "metadata": {},
   "source": [
    "\n",
    "# Changing adding table"
   ]
  },
  {
   "cell_type": "code",
   "execution_count": 65,
   "id": "da5dcbaa",
   "metadata": {},
   "outputs": [],
   "source": [
    " from pyspark.sql.functions import round"
   ]
  },
  {
   "cell_type": "code",
   "execution_count": null,
   "id": "1e18bdcb",
   "metadata": {},
   "outputs": [],
   "source": []
  },
  {
   "cell_type": "code",
   "execution_count": 67,
   "id": "02fc9b0c",
   "metadata": {},
   "outputs": [],
   "source": [
    "total=myNewPeople.withColumn('salary_increase', expr('salary + 100'))"
   ]
  },
  {
   "cell_type": "code",
   "execution_count": 68,
   "id": "00375152",
   "metadata": {},
   "outputs": [
    {
     "name": "stdout",
     "output_type": "stream",
     "text": [
      "+---+----------+---------+--------------------+-------+--------------------+-------------+----+---------------+\n",
      "| id|first_name|last_name|          fav_movies| salary|           image_url|date_of_birth|True|salary_increase|\n",
      "+---+----------+---------+--------------------+-------+--------------------+-------------+----+---------------+\n",
      "|102|      John|  Usmonov|[Stranger Things,...|4500.59|https://someimage...|   2002-08-06|true|        4600.59|\n",
      "|103|     Dawid|   Klimza|[Stranger Things ...|4500.59|https://someimage...|   2002-08-06|true|        4600.59|\n",
      "+---+----------+---------+--------------------+-------+--------------------+-------------+----+---------------+\n",
      "\n"
     ]
    }
   ],
   "source": [
    "total.show()"
   ]
  },
  {
   "cell_type": "code",
   "execution_count": null,
   "id": "b9a32007",
   "metadata": {},
   "outputs": [],
   "source": []
  }
 ],
 "metadata": {
  "kernelspec": {
   "display_name": "Python 3 (ipykernel)",
   "language": "python",
   "name": "python3"
  },
  "language_info": {
   "codemirror_mode": {
    "name": "ipython",
    "version": 3
   },
   "file_extension": ".py",
   "mimetype": "text/x-python",
   "name": "python",
   "nbconvert_exporter": "python",
   "pygments_lexer": "ipython3",
   "version": "3.11.1"
  }
 },
 "nbformat": 4,
 "nbformat_minor": 5
}
